{
 "cells": [
  {
   "cell_type": "code",
   "execution_count": 2,
   "metadata": {},
   "outputs": [],
   "source": [
    "import odrive\n",
    "from odrive.enums import AXIS_STATE_FULL_CALIBRATION_SEQUENCE, AXIS_STATE_CLOSED_LOOP_CONTROL, MOTOR_TYPE_HIGH_CURRENT, AXIS_STATE_IDLE, AXIS_STATE_ENCODER_INDEX_SEARCH, CONTROL_MODE_VELOCITY_CONTROL, CONTROL_MODE_POSITION_CONTROL, INPUT_MODE_VEL_RAMP\n",
    "import time"
   ]
  },
  {
   "cell_type": "code",
   "execution_count": null,
   "metadata": {},
   "outputs": [],
   "source": [
    "od = odrive.find_any()"
   ]
  },
  {
   "cell_type": "code",
   "execution_count": null,
   "metadata": {},
   "outputs": [],
   "source": [
    "od.config.enable_brake_resistor = True\n",
    "od.config.brake_resistance = 2.2\n",
    "od.axis0.motor.config.torque_constant = 8.27 / 270\n",
    "od.axis0.motor.config.motor_type = MOTOR_TYPE_HIGH_CURRENT\n",
    "od.axis0.controller.config.vel_limit = 2.0\n",
    "od.axis0.motor.config.current_lim = 5.0\n",
    "od.axis0.motor.config.pole_pairs = 7\n",
    "od.axis0.encoder.config.cpr = 8192\n",
    "od.axis0.motor.config.calibration_current = 5.0"
   ]
  },
  {
   "cell_type": "code",
   "execution_count": null,
   "metadata": {},
   "outputs": [],
   "source": [
    "od.axis0.encoder.config.use_index = True\n",
    "od.axis0.requested_state = AXIS_STATE_ENCODER_INDEX_SEARCH\n",
    "\n",
    "while od.axis0.current_state != AXIS_STATE_IDLE:\n",
    "    time.sleep(0.1)\n",
    "\n",
    "print(\"index search complete\")\n",
    "\n",
    "\n",
    "od.axis0.requested_state = AXIS_STATE_FULL_CALIBRATION_SEQUENCE\n",
    "\n",
    "while od.axis0.current_state != AXIS_STATE_IDLE:\n",
    "    time.sleep(0.1)\n",
    "\n",
    "print(f\"error is {od.axis0.error}\")\n",
    "print(f\"encoder.config.phase_offset {od.axis0.encoder.config.phase_offset}\")\n",
    "print(f\"od.encoder.config.direction: {od.axis0.encoder.config.direction}\")\n",
    "\n",
    "od.axis0.encoder.config.pre_calibrated = True"
   ]
  },
  {
   "cell_type": "code",
   "execution_count": null,
   "metadata": {},
   "outputs": [],
   "source": [
    "od.axis0.requested_state = AXIS_STATE_CLOSED_LOOP_CONTROL\n",
    "od.axis0.controller.config.circular_setpoints = True"
   ]
  },
  {
   "cell_type": "code",
   "execution_count": null,
   "metadata": {},
   "outputs": [],
   "source": [
    "od.axis0.requested_state = AXIS_STATE_CLOSED_LOOP_CONTROL\n",
    "od.axis0.controller.config.control_mode = CONTROL_MODE_VELOCITY_CONTROL\n",
    "od.axis0.controller.config.vel_ramp_rate = 0.5\n",
    "od.axis0.controller.config.input_mode = INPUT_MODE_VEL_RAMP\n",
    "od.axis0.controller.input_vel = 0.0"
   ]
  },
  {
   "cell_type": "code",
   "execution_count": null,
   "metadata": {},
   "outputs": [],
   "source": [
    "od.axis0.controller.config.vel_limit = 50.0\n",
    "od.axis0.requested_state = AXIS_STATE_CLOSED_LOOP_CONTROL\n",
    "od.axis0.controller.config.control_mode = CONTROL_MODE_POSITION_CONTROL\n",
    "od.axis0.controller.config.circular_setpoints = False\n",
    "od.axis0.controller.input_pos = 0.0"
   ]
  },
  {
   "cell_type": "code",
   "execution_count": null,
   "metadata": {},
   "outputs": [],
   "source": [
    "print(f\"axis0.controller.config.vel_limit: {od.axis0.controller.config.vel_limit}\")\n",
    "od.axis0.controller.config.vel_limit = 50.0"
   ]
  },
  {
   "cell_type": "code",
   "execution_count": null,
   "metadata": {},
   "outputs": [],
   "source": [
    "import math\n",
    "t = 0.0\n",
    "dt = 0.01\n",
    "\n",
    "while True:\n",
    "    t += dt\n",
    "    od.axis0.controller.input_pos = math.sin(t)*0.5 + 0.5\n",
    "    time.sleep(dt)\n",
    "\n"
   ]
  }
 ],
 "metadata": {
  "interpreter": {
   "hash": "e77b0b885f821cf635db6f59ac72d2d59fe136d75fb61ddb95ee62b4e4fb9006"
  },
  "kernelspec": {
   "display_name": "Python 3 (ipykernel)",
   "language": "python",
   "name": "python3"
  },
  "language_info": {
   "codemirror_mode": {
    "name": "ipython",
    "version": 3
   },
   "file_extension": ".py",
   "mimetype": "text/x-python",
   "name": "python",
   "nbconvert_exporter": "python",
   "pygments_lexer": "ipython3",
   "version": "3.9.7"
  }
 },
 "nbformat": 4,
 "nbformat_minor": 4
}
