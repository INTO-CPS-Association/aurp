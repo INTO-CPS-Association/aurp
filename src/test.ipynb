{
 "cells": [
  {
   "cell_type": "code",
   "execution_count": 97,
   "metadata": {},
   "outputs": [],
   "source": [
    "import odrive\n",
    "from odrive.enums import AXIS_STATE_FULL_CALIBRATION_SEQUENCE, AXIS_STATE_CLOSED_LOOP_CONTROL, MOTOR_TYPE_HIGH_CURRENT, AXIS_STATE_IDLE, AXIS_STATE_ENCODER_INDEX_SEARCH, CONTROL_MODE_VELOCITY_CONTROL, CONTROL_MODE_POSITION_CONTROL, INPUT_MODE_VEL_RAMP\n",
    "import time"
   ]
  },
  {
   "cell_type": "code",
   "execution_count": 98,
   "metadata": {},
   "outputs": [],
   "source": [
    "od = odrive.find_any()"
   ]
  },
  {
   "cell_type": "code",
   "execution_count": 14,
   "metadata": {},
   "outputs": [],
   "source": [
    "od.config.enable_brake_resistor = True\n",
    "od.config.brake_resistance = 2.2\n",
    "od.axis0.motor.config.torque_constant = 8.27 / 270\n",
    "od.axis0.motor.config.motor_type = MOTOR_TYPE_HIGH_CURRENT\n",
    "od.axis0.encoder.config.cpr = 8192"
   ]
  },
  {
   "cell_type": "code",
   "execution_count": 100,
   "metadata": {},
   "outputs": [
    {
     "name": "stdout",
     "output_type": "stream",
     "text": [
      "index search complete\n",
      "error is 0\n",
      "encoder.config.phase_offset 4284\n",
      "od.encoder.config.direction: 1\n"
     ]
    }
   ],
   "source": [
    "od.axis0.encoder.config.use_index = True\n",
    "od.axis0.requested_state = AXIS_STATE_ENCODER_INDEX_SEARCH\n",
    "\n",
    "while od.axis0.current_state != AXIS_STATE_IDLE:\n",
    "    time.sleep(0.1)\n",
    "\n",
    "print(\"index search complete\")\n",
    "\n",
    "od.axis0.requested_state = AXIS_STATE_FULL_CALIBRATION_SEQUENCE\n",
    "\n",
    "while od.axis0.current_state != AXIS_STATE_IDLE:\n",
    "    time.sleep(0.1)\n",
    "\n",
    "print(f\"error is {od.axis0.error}\")\n",
    "print(f\"encoder.config.phase_offset {od.axis0.encoder.config.phase_offset}\")\n",
    "print(f\"od.encoder.config.direction: {od.axis0.encoder.config.direction}\")\n",
    "\n",
    "od.axis0.encoder.config.pre_calibrated = True"
   ]
  },
  {
   "cell_type": "code",
   "execution_count": 82,
   "metadata": {},
   "outputs": [],
   "source": [
    "od.axis0.requested_state = AXIS_STATE_CLOSED_LOOP_CONTROL\n",
    "od.axis0.controller.config.circular_setpoints = True"
   ]
  },
  {
   "cell_type": "code",
   "execution_count": 87,
   "metadata": {},
   "outputs": [],
   "source": [
    "od.axis0.requested_state = AXIS_STATE_CLOSED_LOOP_CONTROL\n",
    "od.axis0.controller.config.control_mode = CONTROL_MODE_VELOCITY_CONTROL\n",
    "od.axis0.controller.config.vel_ramp_rate = 0.5\n",
    "od.axis0.controller.config.input_mode = INPUT_MODE_VEL_RAMP\n",
    "od.axis0.controller.input_vel = 0"
   ]
  },
  {
   "cell_type": "code",
   "execution_count": 103,
   "metadata": {},
   "outputs": [],
   "source": [
    "od.axis0.controller.config.vel_limit = 50.0\n",
    "od.axis0.requested_state = AXIS_STATE_CLOSED_LOOP_CONTROL\n",
    "od.axis0.controller.config.control_mode = CONTROL_MODE_POSITION_CONTROL\n",
    "od.axis0.controller.config.circular_setpoints = False\n",
    "od.axis0.controller.input_pos = 0.0"
   ]
  },
  {
   "cell_type": "code",
   "execution_count": 79,
   "metadata": {},
   "outputs": [
    {
     "name": "stdout",
     "output_type": "stream",
     "text": [
      "axis0.controller.config.vel_limit: 10.0\n"
     ]
    }
   ],
   "source": [
    "print(f\"axis0.controller.config.vel_limit: {od.axis0.controller.config.vel_limit}\")\n",
    "od.axis0.controller.config.vel_limit = 50.0"
   ]
  },
  {
   "cell_type": "code",
   "execution_count": 105,
   "metadata": {},
   "outputs": [
    {
     "name": "stdout",
     "output_type": "stream",
     "text": [
      "od.axis0.controller.config.vel_limit: 2.0\n"
     ]
    }
   ],
   "source": [
    "od.axis0.current_state\n",
    "print(f\"od.axis0.controller.config.vel_limit: {od.axis0.controller.config.vel_limit}\")"
   ]
  },
  {
   "cell_type": "code",
   "execution_count": 62,
   "metadata": {},
   "outputs": [
    {
     "ename": "KeyboardInterrupt",
     "evalue": "",
     "output_type": "error",
     "traceback": [
      "\u001b[0;31m---------------------------------------------------------------------------\u001b[0m",
      "\u001b[0;31mKeyboardInterrupt\u001b[0m                         Traceback (most recent call last)",
      "\u001b[0;32m/tmp/ipykernel_20546/3661416082.py\u001b[0m in \u001b[0;36m<module>\u001b[0;34m\u001b[0m\n\u001b[1;32m      6\u001b[0m     \u001b[0mt\u001b[0m \u001b[0;34m+=\u001b[0m \u001b[0mdt\u001b[0m\u001b[0;34m\u001b[0m\u001b[0;34m\u001b[0m\u001b[0m\n\u001b[1;32m      7\u001b[0m     \u001b[0mod\u001b[0m\u001b[0;34m.\u001b[0m\u001b[0maxis0\u001b[0m\u001b[0;34m.\u001b[0m\u001b[0mcontroller\u001b[0m\u001b[0;34m.\u001b[0m\u001b[0minput_pos\u001b[0m \u001b[0;34m=\u001b[0m \u001b[0mmath\u001b[0m\u001b[0;34m.\u001b[0m\u001b[0msin\u001b[0m\u001b[0;34m(\u001b[0m\u001b[0mt\u001b[0m\u001b[0;34m)\u001b[0m\u001b[0;34m*\u001b[0m\u001b[0;36m0.5\u001b[0m \u001b[0;34m+\u001b[0m \u001b[0;36m0.5\u001b[0m\u001b[0;34m\u001b[0m\u001b[0;34m\u001b[0m\u001b[0m\n\u001b[0;32m----> 8\u001b[0;31m     \u001b[0mtime\u001b[0m\u001b[0;34m.\u001b[0m\u001b[0msleep\u001b[0m\u001b[0;34m(\u001b[0m\u001b[0mdt\u001b[0m\u001b[0;34m)\u001b[0m\u001b[0;34m\u001b[0m\u001b[0;34m\u001b[0m\u001b[0m\n\u001b[0m\u001b[1;32m      9\u001b[0m \u001b[0;34m\u001b[0m\u001b[0m\n",
      "\u001b[0;31mKeyboardInterrupt\u001b[0m: "
     ]
    }
   ],
   "source": [
    "import math\n",
    "t = 0.0\n",
    "dt = 0.01\n",
    "\n",
    "while True:\n",
    "    t += dt\n",
    "    od.axis0.controller.input_pos = math.sin(t)*0.5 + 0.5\n",
    "    time.sleep(dt)\n",
    "\n"
   ]
  },
  {
   "cell_type": "code",
   "execution_count": 57,
   "metadata": {},
   "outputs": [],
   "source": [
    "od.axis0.controller.input_pos = 1000"
   ]
  },
  {
   "cell_type": "code",
   "execution_count": 51,
   "metadata": {},
   "outputs": [
    {
     "data": {
      "text/plain": [
       "0"
      ]
     },
     "execution_count": 51,
     "metadata": {},
     "output_type": "execute_result"
    }
   ],
   "source": [
    "od.axis0.error"
   ]
  },
  {
   "cell_type": "code",
   "execution_count": 38,
   "metadata": {},
   "outputs": [
    {
     "ename": "AttributeError",
     "evalue": "'EmptyInterface' object has no attribute 'save_configuration'",
     "output_type": "error",
     "traceback": [
      "\u001b[0;31m---------------------------------------------------------------------------\u001b[0m",
      "\u001b[0;31mAttributeError\u001b[0m                            Traceback (most recent call last)",
      "\u001b[0;32m/tmp/ipykernel_14166/1671129227.py\u001b[0m in \u001b[0;36m<module>\u001b[0;34m\u001b[0m\n\u001b[0;32m----> 1\u001b[0;31m \u001b[0mod\u001b[0m\u001b[0;34m.\u001b[0m\u001b[0msave_configuration\u001b[0m\u001b[0;34m(\u001b[0m\u001b[0;34m)\u001b[0m\u001b[0;34m\u001b[0m\u001b[0;34m\u001b[0m\u001b[0m\n\u001b[0m",
      "\u001b[0;31mAttributeError\u001b[0m: 'EmptyInterface' object has no attribute 'save_configuration'"
     ]
    }
   ],
   "source": [
    "od.save_configuration()\n"
   ]
  },
  {
   "cell_type": "code",
   "execution_count": null,
   "metadata": {},
   "outputs": [],
   "source": []
  }
 ],
 "metadata": {
  "interpreter": {
   "hash": "e77b0b885f821cf635db6f59ac72d2d59fe136d75fb61ddb95ee62b4e4fb9006"
  },
  "kernelspec": {
   "display_name": "Python 3.8.10 64-bit ('venv': venv)",
   "language": "python",
   "name": "python3"
  },
  "language_info": {
   "codemirror_mode": {
    "name": "ipython",
    "version": 3
   },
   "file_extension": ".py",
   "mimetype": "text/x-python",
   "name": "python",
   "nbconvert_exporter": "python",
   "pygments_lexer": "ipython3",
   "version": "3.8.10"
  },
  "orig_nbformat": 4
 },
 "nbformat": 4,
 "nbformat_minor": 2
}
